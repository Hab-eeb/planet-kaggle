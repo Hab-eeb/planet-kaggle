{
  "nbformat": 4,
  "nbformat_minor": 0,
  "metadata": {
    "kernelspec": {
      "name": "python3",
      "display_name": "Python 3",
      "language": "python"
    },
    "language_info": {
      "name": "python",
      "version": "3.7.6",
      "mimetype": "text/x-python",
      "codemirror_mode": {
        "name": "ipython",
        "version": 3
      },
      "pygments_lexer": "ipython3",
      "nbconvert_exporter": "python",
      "file_extension": ".py"
    },
    "colab": {
      "name": "Updated basic model(firs).ipynb",
      "provenance": [],
      "include_colab_link": true
    }
  },
  "cells": [
    {
      "cell_type": "markdown",
      "metadata": {
        "id": "view-in-github",
        "colab_type": "text"
      },
      "source": [
        "<a href=\"https://colab.research.google.com/github/Hab-eeb/planet-kaggle/blob/master/Updated_basic_model(firs).ipynb\" target=\"_parent\"><img src=\"https://colab.research.google.com/assets/colab-badge.svg\" alt=\"Open In Colab\"/></a>"
      ]
    },
    {
      "cell_type": "code",
      "metadata": {
        "_uuid": "8f2839f25d086af736a60e9eeb907d3b93b6e0e5",
        "_cell_guid": "b1076dfc-b9ad-4769-8c92-a6c4dae69d19",
        "trusted": true,
        "id": "Sip91b2-oQJ-",
        "colab_type": "code",
        "colab": {}
      },
      "source": [
        "\n",
        "import numpy as np \n",
        "import pandas as pd\n"
      ],
      "execution_count": null,
      "outputs": []
    },
    {
      "cell_type": "code",
      "metadata": {
        "_uuid": "d629ff2d2480ee46fbb7e2d37f6b5fab8052498a",
        "_cell_guid": "79c7e3d0-c299-4dcb-8224-4455121ee9b0",
        "trusted": true,
        "id": "Ww7yT4O7oQKE",
        "colab_type": "code",
        "colab": {},
        "outputId": "223afa25-bb74-4f1c-9d52-efbccf21620f"
      },
      "source": [
        "!ls /kaggle/input/planets-dataset/planet/planet"
      ],
      "execution_count": null,
      "outputs": [
        {
          "output_type": "stream",
          "text": [
            "sample_submission.csv  test-jpg  train-jpg  train_classes.csv\r\n"
          ],
          "name": "stdout"
        }
      ]
    },
    {
      "cell_type": "code",
      "metadata": {
        "trusted": true,
        "id": "F8xnrJKNoQKJ",
        "colab_type": "code",
        "colab": {}
      },
      "source": [
        "import keras as k\n",
        "from keras.layers import Flatten\n",
        "from keras.models import Sequential \n",
        "from keras.layers import Dense\n",
        "from keras.layers import Dropout \n",
        "from keras.layers import Conv2D\n",
        "from keras.layers import MaxPooling2D \n",
        "import tensorflow as tf\n",
        "from tensorflow.keras.optimizers import Adam\n",
        "from tensorflow.keras.callbacks import EarlyStopping, ModelCheckpoint\n"
      ],
      "execution_count": null,
      "outputs": []
    },
    {
      "cell_type": "code",
      "metadata": {
        "trusted": true,
        "id": "4UuCKU_AoQKM",
        "colab_type": "code",
        "colab": {}
      },
      "source": [
        "import cv2\n",
        "from tqdm import tqdm"
      ],
      "execution_count": null,
      "outputs": []
    },
    {
      "cell_type": "code",
      "metadata": {
        "trusted": true,
        "id": "gezV1xH9oQKQ",
        "colab_type": "code",
        "colab": {}
      },
      "source": [
        "x_train = []\n",
        "y_train = []\n",
        "x_test = []\n",
        "x_test2=[]\n"
      ],
      "execution_count": null,
      "outputs": []
    },
    {
      "cell_type": "code",
      "metadata": {
        "trusted": true,
        "id": "Q61stK4yoQKU",
        "colab_type": "code",
        "colab": {},
        "outputId": "0a6a0934-70f6-45d9-d5dc-f1a90f29a1b1"
      },
      "source": [
        "df_train =pd.read_csv('/kaggle/input/planets-dataset/planet/planet/train_classes.csv')\n",
        "df_train.shape"
      ],
      "execution_count": null,
      "outputs": [
        {
          "output_type": "execute_result",
          "data": {
            "text/plain": [
              "(40479, 2)"
            ]
          },
          "metadata": {
            "tags": []
          },
          "execution_count": 6
        }
      ]
    },
    {
      "cell_type": "code",
      "metadata": {
        "trusted": true,
        "id": "EUMVJM5_oQKY",
        "colab_type": "code",
        "colab": {}
      },
      "source": [
        "flatten = lambda l : [items for sublist in l for items in sublist]\n",
        "labels = list(set(flatten([l.split(' ') for l in df_train['tags'].values])))"
      ],
      "execution_count": null,
      "outputs": []
    },
    {
      "cell_type": "code",
      "metadata": {
        "trusted": true,
        "id": "BSoVtx2JoQKe",
        "colab_type": "code",
        "colab": {}
      },
      "source": [
        "label_map = {l:i for i,l in enumerate(labels)}\n",
        "inv_label_map = {i:l for i,l in enumerate(labels)}\n"
      ],
      "execution_count": null,
      "outputs": []
    },
    {
      "cell_type": "code",
      "metadata": {
        "trusted": true,
        "id": "lzRLxJ4-oQKk",
        "colab_type": "code",
        "colab": {},
        "outputId": "2c09dc6c-7c62-49bf-8609-517eb4327dea"
      },
      "source": [
        "for f, tags in tqdm(df_train.values, miniters=1000):\n",
        "    img = cv2.imread(\"/kaggle/input/planets-dataset/planet/planet/train-jpg/{}.jpg\".format(f))\n",
        "    targets = np.zeros(17)\n",
        "    for t in tags.split(\" \"):\n",
        "        targets[label_map[t]]=1\n",
        "    x_train.append(cv2.resize(img,(32,32))) \n",
        "    y_train.append(targets)"
      ],
      "execution_count": null,
      "outputs": [
        {
          "output_type": "stream",
          "text": [
            "100%|██████████| 40479/40479 [01:36<00:00, 420.26it/s]\n"
          ],
          "name": "stderr"
        }
      ]
    },
    {
      "cell_type": "code",
      "metadata": {
        "trusted": true,
        "id": "EGdkj3t0oQKn",
        "colab_type": "code",
        "colab": {}
      },
      "source": [
        "sample_submission_df = pd.read_csv(\"../input/planets-dataset/planet/planet/sample_submission.csv\")\n"
      ],
      "execution_count": null,
      "outputs": []
    },
    {
      "cell_type": "code",
      "metadata": {
        "trusted": true,
        "id": "0RX8lHH5oQKq",
        "colab_type": "code",
        "colab": {},
        "outputId": "dcfe8afc-8a59-4fb6-ce6f-edf1121a0399"
      },
      "source": [
        " !ls ../input/planets-dataset/planet/planet/test-jpg | wc -l"
      ],
      "execution_count": null,
      "outputs": [
        {
          "output_type": "stream",
          "text": [
            "40669\r\n"
          ],
          "name": "stdout"
        }
      ]
    },
    {
      "cell_type": "code",
      "metadata": {
        "trusted": true,
        "id": "WN5NaVf3oQKu",
        "colab_type": "code",
        "colab": {}
      },
      "source": [
        "sample_submission_df_test1 = sample_submission_df['image_name'][:40669]"
      ],
      "execution_count": null,
      "outputs": []
    },
    {
      "cell_type": "code",
      "metadata": {
        "trusted": true,
        "id": "PSMhdGiHoQKx",
        "colab_type": "code",
        "colab": {},
        "outputId": "698b124c-20ea-4b93-c0e7-57f8820e8276"
      },
      "source": [
        "sample_submission_df_test1.shape"
      ],
      "execution_count": null,
      "outputs": [
        {
          "output_type": "execute_result",
          "data": {
            "text/plain": [
              "(40669,)"
            ]
          },
          "metadata": {
            "tags": []
          },
          "execution_count": 13
        }
      ]
    },
    {
      "cell_type": "code",
      "metadata": {
        "trusted": true,
        "id": "zn3O31feoQK0",
        "colab_type": "code",
        "colab": {}
      },
      "source": [
        "sample_submission_df_test2 = sample_submission_df['image_name'][40669:]\n"
      ],
      "execution_count": null,
      "outputs": []
    },
    {
      "cell_type": "code",
      "metadata": {
        "trusted": true,
        "id": "_gF9e0ysoQK3",
        "colab_type": "code",
        "colab": {},
        "outputId": "3989de92-e3f7-423d-e5db-88dc0280347d"
      },
      "source": [
        "sample_submission_df_test2.shape"
      ],
      "execution_count": null,
      "outputs": [
        {
          "output_type": "execute_result",
          "data": {
            "text/plain": [
              "(20522,)"
            ]
          },
          "metadata": {
            "tags": []
          },
          "execution_count": 15
        }
      ]
    },
    {
      "cell_type": "code",
      "metadata": {
        "trusted": true,
        "id": "SqS7P-LmoQK6",
        "colab_type": "code",
        "colab": {},
        "outputId": "1f6e2b1e-ccb0-4085-883a-0ad9abfca5a5"
      },
      "source": [
        "\n",
        "for name in tqdm(sample_submission_df_test1,miniters=1000):\n",
        "    imge = cv2.imread(\"../input/planets-dataset/planet/planet/test-jpg/{}.jpg\".format(name))\n",
        "    x_test.append(cv2.resize(imge,(32,32)))\n",
        "    \n",
        "\n",
        "\n"
      ],
      "execution_count": null,
      "outputs": [
        {
          "output_type": "stream",
          "text": [
            "100%|██████████| 40669/40669 [01:36<00:00, 420.83it/s]\n"
          ],
          "name": "stderr"
        }
      ]
    },
    {
      "cell_type": "code",
      "metadata": {
        "trusted": true,
        "id": "rkvUOzJGoQK-",
        "colab_type": "code",
        "colab": {},
        "outputId": "d5d053b2-b4e2-4a6e-fe3f-1d247ea40447"
      },
      "source": [
        "\n",
        "for name in tqdm(sample_submission_df_test2,miniters=1000):\n",
        "    imge2 = cv2.imread(\"../input/planets-dataset/test-jpg-additional/test-jpg-additional/{}.jpg\".format(name))\n",
        "    x_test2.append(cv2.resize(imge2,(32,32)))\n",
        "    \n"
      ],
      "execution_count": null,
      "outputs": [
        {
          "output_type": "stream",
          "text": [
            "100%|██████████| 20522/20522 [00:48<00:00, 422.82it/s]\n"
          ],
          "name": "stderr"
        }
      ]
    },
    {
      "cell_type": "code",
      "metadata": {
        "trusted": true,
        "id": "3ppP0dmeoQLB",
        "colab_type": "code",
        "colab": {}
      },
      "source": [
        "import matplotlib.pyplot as plt\n",
        "%matplotlib inline"
      ],
      "execution_count": null,
      "outputs": []
    },
    {
      "cell_type": "code",
      "metadata": {
        "trusted": true,
        "id": "EO4DIHu-oQLF",
        "colab_type": "code",
        "colab": {},
        "outputId": "2f307483-8d28-4721-9d72-65581c0365f9"
      },
      "source": [
        "imge = cv2.imread(\"../input/planets-dataset/planet/planet/test-jpg/test_20.jpg\")\n",
        "plt.imshow(imge)"
      ],
      "execution_count": null,
      "outputs": [
        {
          "output_type": "execute_result",
          "data": {
            "text/plain": [
              "<matplotlib.image.AxesImage at 0x7f21c1011e90>"
            ]
          },
          "metadata": {
            "tags": []
          },
          "execution_count": 19
        },
        {
          "output_type": "display_data",
          "data": {
            "text/plain": [
              "<Figure size 432x288 with 1 Axes>"
            ],
            "image/png": "[encoded data removed]"
          },
          "metadata": {
            "tags": [],
            "needs_background": "light"
          }
        }
      ]
    },
    {
      "cell_type": "code",
      "metadata": {
        "trusted": true,
        "id": "nACAbmeyoQLI",
        "colab_type": "code",
        "colab": {}
      },
      "source": [
        "x_test2= np.array(x_test2,np.float16)/255\n",
        "x_test= np.array(x_test,np.float16)/255\n",
        "x_train = np.array(x_train,np.float16)/255 \n",
        "y_train = np.array(y_train,np.uint8)"
      ],
      "execution_count": null,
      "outputs": []
    },
    {
      "cell_type": "code",
      "metadata": {
        "trusted": true,
        "id": "m_9RGDTDoQLL",
        "colab_type": "code",
        "colab": {},
        "outputId": "1e34d1e1-2bf5-4a91-e2a2-4d1b2313ac62"
      },
      "source": [
        "print(x_train.shape)\n",
        "print(y_train.shape)\n",
        "print(x_test.shape)\n",
        "print(x_test2.shape)\n"
      ],
      "execution_count": null,
      "outputs": [
        {
          "output_type": "stream",
          "text": [
            "(40479, 32, 32, 3)\n",
            "(40479, 17)\n",
            "(40669, 32, 32, 3)\n",
            "(20522, 32, 32, 3)\n"
          ],
          "name": "stdout"
        }
      ]
    },
    {
      "cell_type": "code",
      "metadata": {
        "trusted": true,
        "id": "TUc078wQoQLP",
        "colab_type": "code",
        "colab": {}
      },
      "source": [
        "split = 37000\n",
        "\n",
        "x_train,x_val,y_train,y_val = x_train[:split],x_train[split:],y_train[:split],y_train[split:]"
      ],
      "execution_count": null,
      "outputs": []
    },
    {
      "cell_type": "code",
      "metadata": {
        "trusted": true,
        "id": "3mr1jKveoQLS",
        "colab_type": "code",
        "colab": {}
      },
      "source": [
        "def fbeta(ytrue , ypred, beta=2, epsilon=1e-4):\n",
        "    beta_squarred = beta**2\n",
        "\n",
        "    ytrue = tf.cast(ytrue, tf.float32)\n",
        "    ypred = tf.cast(tf.greater(tf.cast(ypred, tf.float32), tf.constant(0.5)), tf.float32)\n",
        "        \n",
        "    tp = tf.reduce_sum(ytrue * ypred, axis=1)\n",
        "    fp = tf.reduce_sum(ypred, axis=1) - tp\n",
        "    fn = tf.reduce_sum(ytrue, axis=1) - tp\n",
        "    \n",
        "    precision = tp/(tp+fp+epsilon)\n",
        "    recall = tp/(tp+fn+epsilon)\n",
        "    \n",
        "    fb = (1+beta_squarred)*precision*recall / (beta_squarred*precision + recall + epsilon)\n",
        "    return fb"
      ],
      "execution_count": null,
      "outputs": []
    },
    {
      "cell_type": "code",
      "metadata": {
        "trusted": true,
        "id": "PxTNUYr5oQLV",
        "colab_type": "code",
        "colab": {}
      },
      "source": [
        "def multi_label_acc(ytrue , ypred, epsilon=1e-4):\n",
        "    \n",
        "    ytrue = tf.cast(ytrue, tf.float32)\n",
        "    ypred = tf.cast(tf.greater(tf.cast(ypred, tf.float32), tf.constant(0.5)), tf.float32)\n",
        "    \n",
        "    tp = tf.reduce_sum(ytrue * ypred, axis=1)\n",
        "    fp = tf.reduce_sum(ypred, axis=1) - tp\n",
        "    fn = tf.reduce_sum(ytrue, axis=1) - tp\n",
        "    \n",
        "    ytrue = tf.cast(ytrue, tf.bool)\n",
        "    ypred = tf.cast(ypred, tf.bool)\n",
        "    \n",
        "    tn = tf.reduce_sum(tf.cast(tf.logical_not(ytrue), tf.float32) * tf.cast(tf.logical_not(ypred), tf.float32),\\\n",
        "                       axis=1)\n",
        "    \n",
        "    return (tp+tn)/(tp+tn+fp+fn+epsilon)"
      ],
      "execution_count": null,
      "outputs": []
    },
    {
      "cell_type": "code",
      "metadata": {
        "trusted": true,
        "id": "pUNm2Y70oQLY",
        "colab_type": "code",
        "colab": {}
      },
      "source": [
        "model = Sequential()\n",
        "model.add(Conv2D(32, kernel_size=(3, 3),\n",
        "                 activation='relu',\n",
        "                 input_shape=(32, 32, 3)))\n",
        "\n",
        "model.add(Conv2D(64, (3, 3), activation='relu'))\n",
        "model.add(MaxPooling2D(pool_size=(2, 2)))\n",
        "model.add(Dropout(0.25))\n",
        "model.add(Flatten())\n",
        "model.add(Dense(128, activation='relu'))\n",
        "model.add(Dropout(0.5))\n",
        "model.add(Dense(17, activation='sigmoid'))\n"
      ],
      "execution_count": null,
      "outputs": []
    },
    {
      "cell_type": "code",
      "metadata": {
        "trusted": true,
        "id": "I3OiQvg-oQLc",
        "colab_type": "code",
        "colab": {}
      },
      "source": [
        "opt = Adam(lr=1e-3)\n",
        "model.compile(loss='binary_crossentropy', \n",
        "              optimizer=opt,\n",
        "              metrics=[multi_label_acc,fbeta])\n",
        "              \n"
      ],
      "execution_count": null,
      "outputs": []
    },
    {
      "cell_type": "code",
      "metadata": {
        "trusted": true,
        "id": "OiFeGNHcoQLg",
        "colab_type": "code",
        "colab": {},
        "outputId": "3aecc2e6-3116-4e2b-bf15-73301217f93f"
      },
      "source": [
        "model.fit(x_train, y_train,batch_size=128,epochs=15,verbose=2,validation_data=(x_val, y_val))\n",
        "          "
      ],
      "execution_count": null,
      "outputs": [
        {
          "output_type": "stream",
          "text": [
            "Epoch 1/15\n",
            "290/290 - 2s - loss: 0.0899 - multi_label_acc: 0.9615 - fbeta: 0.8842 - val_loss: 0.1622 - val_multi_label_acc: 0.9485 - val_fbeta: 0.8405\n",
            "Epoch 2/15\n",
            "290/290 - 2s - loss: 0.0887 - multi_label_acc: 0.9616 - fbeta: 0.8836 - val_loss: 0.1599 - val_multi_label_acc: 0.9476 - val_fbeta: 0.8403\n",
            "Epoch 3/15\n",
            "290/290 - 2s - loss: 0.0890 - multi_label_acc: 0.9616 - fbeta: 0.8841 - val_loss: 0.1631 - val_multi_label_acc: 0.9475 - val_fbeta: 0.8387\n",
            "Epoch 4/15\n",
            "290/290 - 2s - loss: 0.0881 - multi_label_acc: 0.9620 - fbeta: 0.8850 - val_loss: 0.1663 - val_multi_label_acc: 0.9477 - val_fbeta: 0.8416\n",
            "Epoch 5/15\n",
            "290/290 - 2s - loss: 0.0880 - multi_label_acc: 0.9620 - fbeta: 0.8857 - val_loss: 0.1673 - val_multi_label_acc: 0.9481 - val_fbeta: 0.8418\n",
            "Epoch 6/15\n",
            "290/290 - 2s - loss: 0.0871 - multi_label_acc: 0.9622 - fbeta: 0.8863 - val_loss: 0.1639 - val_multi_label_acc: 0.9476 - val_fbeta: 0.8420\n",
            "Epoch 7/15\n",
            "290/290 - 2s - loss: 0.0886 - multi_label_acc: 0.9618 - fbeta: 0.8849 - val_loss: 0.1699 - val_multi_label_acc: 0.9473 - val_fbeta: 0.8413\n",
            "Epoch 8/15\n",
            "290/290 - 2s - loss: 0.0868 - multi_label_acc: 0.9626 - fbeta: 0.8879 - val_loss: 0.1664 - val_multi_label_acc: 0.9478 - val_fbeta: 0.8374\n",
            "Epoch 9/15\n",
            "290/290 - 2s - loss: 0.0857 - multi_label_acc: 0.9629 - fbeta: 0.8898 - val_loss: 0.1676 - val_multi_label_acc: 0.9474 - val_fbeta: 0.8388\n",
            "Epoch 10/15\n",
            "290/290 - 2s - loss: 0.0862 - multi_label_acc: 0.9627 - fbeta: 0.8883 - val_loss: 0.1650 - val_multi_label_acc: 0.9475 - val_fbeta: 0.8388\n",
            "Epoch 11/15\n",
            "290/290 - 2s - loss: 0.0858 - multi_label_acc: 0.9628 - fbeta: 0.8893 - val_loss: 0.1735 - val_multi_label_acc: 0.9469 - val_fbeta: 0.8324\n",
            "Epoch 12/15\n",
            "290/290 - 2s - loss: 0.0848 - multi_label_acc: 0.9635 - fbeta: 0.8915 - val_loss: 0.1663 - val_multi_label_acc: 0.9475 - val_fbeta: 0.8433\n",
            "Epoch 13/15\n",
            "290/290 - 2s - loss: 0.0843 - multi_label_acc: 0.9637 - fbeta: 0.8923 - val_loss: 0.1635 - val_multi_label_acc: 0.9476 - val_fbeta: 0.8390\n",
            "Epoch 14/15\n",
            "290/290 - 2s - loss: 0.0851 - multi_label_acc: 0.9631 - fbeta: 0.8903 - val_loss: 0.1627 - val_multi_label_acc: 0.9481 - val_fbeta: 0.8409\n",
            "Epoch 15/15\n",
            "290/290 - 2s - loss: 0.0831 - multi_label_acc: 0.9641 - fbeta: 0.8939 - val_loss: 0.1729 - val_multi_label_acc: 0.9481 - val_fbeta: 0.8391\n"
          ],
          "name": "stdout"
        },
        {
          "output_type": "execute_result",
          "data": {
            "text/plain": [
              "<tensorflow.python.keras.callbacks.History at 0x7f21c1775f90>"
            ]
          },
          "metadata": {
            "tags": []
          },
          "execution_count": 50
        }
      ]
    },
    {
      "cell_type": "code",
      "metadata": {
        "trusted": true,
        "id": "ZOH6ras5oQLj",
        "colab_type": "code",
        "colab": {}
      },
      "source": [
        "#model.load_weights(\"./first_checkpoint\")\n",
        "model.save_weights(\"./firs_checkpoint\")"
      ],
      "execution_count": null,
      "outputs": []
    },
    {
      "cell_type": "code",
      "metadata": {
        "trusted": true,
        "id": "gCo6dxUsoQLm",
        "colab_type": "code",
        "colab": {},
        "outputId": "5212b820-8dc4-44f6-b32a-bee6ad23e13e"
      },
      "source": [
        "pred1 = model.predict(x_test, batch_size=128, verbose=1)"
      ],
      "execution_count": null,
      "outputs": [
        {
          "output_type": "stream",
          "text": [
            "318/318 [==============================] - 1s 2ms/step\n"
          ],
          "name": "stdout"
        }
      ]
    },
    {
      "cell_type": "code",
      "metadata": {
        "trusted": true,
        "id": "1eSsWO4foQLo",
        "colab_type": "code",
        "colab": {}
      },
      "source": [
        "pred1_tags = pd.DataFrame(pred1)\n",
        "pred1_tags = pred1_tags.apply(lambda x: \" \".join(np.array(labels)[x > 0.5]),axis = 1)\n"
      ],
      "execution_count": null,
      "outputs": []
    },
    {
      "cell_type": "code",
      "metadata": {
        "trusted": true,
        "id": "u3NbtSXzoQLr",
        "colab_type": "code",
        "colab": {}
      },
      "source": [
        "pred1_tags.head()"
      ],
      "execution_count": null,
      "outputs": []
    },
    {
      "cell_type": "code",
      "metadata": {
        "trusted": true,
        "id": "2O6wwTESoQLu",
        "colab_type": "code",
        "colab": {}
      },
      "source": [
        "result1 = pd.DataFrame({\"image_name\":sample_submission_df_test1,\"tags\":pred1_tags})\n",
        "result1.head()"
      ],
      "execution_count": null,
      "outputs": []
    },
    {
      "cell_type": "code",
      "metadata": {
        "trusted": true,
        "id": "7dv_uM4ioQLz",
        "colab_type": "code",
        "colab": {}
      },
      "source": [
        "pred2 = model.predict(x_test2, batch_size=128, verbose=1)"
      ],
      "execution_count": null,
      "outputs": []
    },
    {
      "cell_type": "code",
      "metadata": {
        "trusted": true,
        "id": "k-tuuzzWoQL1",
        "colab_type": "code",
        "colab": {}
      },
      "source": [
        "pred2_tags = pd.DataFrame(pred2)\n",
        "pred2_tags = pred2_tags.apply(lambda x: \" \".join(np.array(labels)[x > 0.5]),axis = 1)\n"
      ],
      "execution_count": null,
      "outputs": []
    },
    {
      "cell_type": "code",
      "metadata": {
        "trusted": true,
        "id": "EfwOTB_1oQL3",
        "colab_type": "code",
        "colab": {}
      },
      "source": [
        "pred2_tags.shape"
      ],
      "execution_count": null,
      "outputs": []
    },
    {
      "cell_type": "code",
      "metadata": {
        "trusted": true,
        "id": "TZLvaSb-oQL6",
        "colab_type": "code",
        "colab": {}
      },
      "source": [
        "#sample2 = sample_submission_df.iloc[40669:][\"image_name\"]"
      ],
      "execution_count": null,
      "outputs": []
    },
    {
      "cell_type": "code",
      "metadata": {
        "trusted": true,
        "id": "6ZfpeuwkoQL9",
        "colab_type": "code",
        "colab": {}
      },
      "source": [
        "# result_2= pd.DataFrame({\"image_name\":sample2,\"tags\":pred2_tags})\n",
        "# #result_2[result_2[\"image_name\"]==\"file_1\"]\n",
        "# result_2.shape"
      ],
      "execution_count": null,
      "outputs": []
    },
    {
      "cell_type": "code",
      "metadata": {
        "trusted": true,
        "id": "f3Dz47cVoQMA",
        "colab_type": "code",
        "colab": {}
      },
      "source": [
        "result2 = pd.DataFrame({\"image_name\":sample_submission_df_test2})\n",
        "result2 = result2.reset_index().drop(\"index\",axis=1)\n",
        "result2.head()"
      ],
      "execution_count": null,
      "outputs": []
    },
    {
      "cell_type": "code",
      "metadata": {
        "trusted": true,
        "id": "HenDIfHpoQMF",
        "colab_type": "code",
        "colab": {}
      },
      "source": [
        "tg = pd.DataFrame({\"tags\":pred2_tags})\n",
        "tg.head()"
      ],
      "execution_count": null,
      "outputs": []
    },
    {
      "cell_type": "code",
      "metadata": {
        "trusted": true,
        "id": "y5ODudFToQMK",
        "colab_type": "code",
        "colab": {}
      },
      "source": [
        "result2['tags']=tg\n",
        "result2.head()"
      ],
      "execution_count": null,
      "outputs": []
    },
    {
      "cell_type": "code",
      "metadata": {
        "trusted": true,
        "id": "iqcAu2dBoQMM",
        "colab_type": "code",
        "colab": {}
      },
      "source": [
        "result2.shape"
      ],
      "execution_count": null,
      "outputs": []
    },
    {
      "cell_type": "code",
      "metadata": {
        "trusted": true,
        "id": "zOnnUl-voQMQ",
        "colab_type": "code",
        "colab": {}
      },
      "source": [
        "result1.shape"
      ],
      "execution_count": null,
      "outputs": []
    },
    {
      "cell_type": "code",
      "metadata": {
        "trusted": true,
        "id": "0mpAX-Z6oQMW",
        "colab_type": "code",
        "colab": {}
      },
      "source": [
        "final_result = pd.concat([result1,result2])\n",
        "final_result.reset_index(inplace=True)\n",
        "final_result.drop(\"index\",axis=1,inplace=True)"
      ],
      "execution_count": null,
      "outputs": []
    },
    {
      "cell_type": "code",
      "metadata": {
        "trusted": true,
        "id": "X8k_ad-ooQMb",
        "colab_type": "code",
        "colab": {}
      },
      "source": [
        "final_result.shape"
      ],
      "execution_count": null,
      "outputs": []
    },
    {
      "cell_type": "code",
      "metadata": {
        "trusted": true,
        "id": "rANSzRpMoQMf",
        "colab_type": "code",
        "colab": {}
      },
      "source": [
        "final_result.to_csv(\"firs_submission.csv\",index=False)"
      ],
      "execution_count": null,
      "outputs": []
    },
    {
      "cell_type": "code",
      "metadata": {
        "trusted": true,
        "id": "Jq3v1zS-oQMj",
        "colab_type": "code",
        "colab": {}
      },
      "source": [
        ""
      ],
      "execution_count": null,
      "outputs": []
    }
  ]
}